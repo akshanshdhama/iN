{
 "cells": [
  {
   "cell_type": "markdown",
   "id": "daaacbec",
   "metadata": {},
   "source": [
    "### 1. Write a function that takes a list of lists and returns the value of all of the symbols in it, where each symbol adds or takes something from the total score. Symbol values:\n",
    "\n",
    "'# = 5\n",
    "\n",
    "O = 3\n",
    "\n",
    "X = 1\n",
    "\n",
    "! = -1\n",
    "\n",
    "!! = -3\n",
    "\n",
    "!!! = -5\n",
    "\n",
    "A list of lists containing 2 #s, a O, and a !!! would equal (0 + 5 + 5 + 3 - 5) 8.\n",
    "\n",
    "If the final score is negative, return 0 (e.g. 3 #s, 3 !!s, 2 !!!s and a X would be (0 + 5 + 5 + 5 - 3 - 3 - 3 - 5 - 5 + 1) -3, so return 0"
   ]
  },
  {
   "cell_type": "code",
   "execution_count": 1,
   "id": "fb62d118",
   "metadata": {},
   "outputs": [],
   "source": [
    "## Solution 1\n",
    "\n",
    "def check_score(l):\n",
    "\n",
    "    try:\n",
    "        tot=0\n",
    "        for i in l:\n",
    "            for j in i:\n",
    "                if j == '#':\n",
    "                    tot+=5\n",
    "                elif j == 'O':\n",
    "                    tot+=3\n",
    "                elif j == 'X':\n",
    "                    tot+=1                \n",
    "                elif j == '!':\n",
    "                    tot-= 1\n",
    "                elif j == '!!':\n",
    "                    tot-= 3\n",
    "                elif j == '!!!':\n",
    "                    tot-= 5\n",
    "                else:\n",
    "                    print(f\"Symbol > {j} is not a valid item, plz double check\")\n",
    "                    break\n",
    "\n",
    "        if tot >=0:\n",
    "            print(\"Total sum of given nested list is:\", tot)\n",
    "        else:\n",
    "            print(\"Total sum of given nested list is: 0\")\n",
    "\n",
    "    except Exception as e:\n",
    "        print(\"There is some error: \",e)"
   ]
  },
  {
   "cell_type": "code",
   "execution_count": 2,
   "id": "bc58d2f2",
   "metadata": {},
   "outputs": [
    {
     "name": "stdout",
     "output_type": "stream",
     "text": [
      "Total sum of given nested list is: 2\n"
     ]
    }
   ],
   "source": [
    "check_score([\n",
    "  [\"#\", \"!\"],\n",
    "  [\"!!\", \"X\"]\n",
    "]) "
   ]
  },
  {
   "cell_type": "code",
   "execution_count": 3,
   "id": "605912f5",
   "metadata": {},
   "outputs": [
    {
     "name": "stdout",
     "output_type": "stream",
     "text": [
      "Total sum of given nested list is: 0\n"
     ]
    }
   ],
   "source": [
    "check_score([\n",
    "  [\"!!!\", \"O\", \"!\"],\n",
    "  [\"X\", \"#\", \"!!!\"],\n",
    "  [\"!!\", \"X\", \"O\"]\n",
    "])"
   ]
  },
  {
   "cell_type": "code",
   "execution_count": 4,
   "id": "8a2d0615",
   "metadata": {},
   "outputs": [],
   "source": [
    "## Solution 2\n",
    "\n",
    "def check_score(l):\n",
    "\n",
    "    code_values={'#' : 5, 'O' : 3, 'X' : 1 ,'!' : -1 ,'!!' : -3 ,'!!!' : -5}\n",
    "    \n",
    "    try:\n",
    "        tot=0\n",
    "        for i in l:\n",
    "            for j in i:\n",
    "                if j in code_values.keys():\n",
    "                    tot+= code_values.get(j)\n",
    "                else:\n",
    "                    print(f\"Symbol '{j}' is not a valid item, plz double check\")\n",
    "                    break\n",
    "\n",
    "        if tot >=0:\n",
    "            print(\"Total sum of given nested list is:\", tot)\n",
    "        else:\n",
    "            print(\"Total sum of given nested list is: 0\")\n",
    "\n",
    "    except Exception as e:\n",
    "        print(\"There is some error: \",e)"
   ]
  },
  {
   "cell_type": "code",
   "execution_count": 5,
   "id": "7c224c52",
   "metadata": {},
   "outputs": [
    {
     "name": "stdout",
     "output_type": "stream",
     "text": [
      "Total sum of given nested list is: 2\n"
     ]
    }
   ],
   "source": [
    "check_score([\n",
    "  [\"#\", \"!\"],\n",
    "  [\"!!\", \"X\"]\n",
    "]) "
   ]
  },
  {
   "cell_type": "markdown",
   "id": "102e0c62",
   "metadata": {},
   "source": [
    "### 2. Create a function that takes a variable number of arguments, each argument representing the number of items in a group, and returns the number of permutations (combinations) of items that you could get by taking one item from each group.\n",
    "\n",
    "Examples\n",
    "\n",
    "combinations(2, 3) ➞ 6\n",
    "\n",
    "combinations(3, 7, 4) ➞ 84\n",
    "\n",
    "combinations(2, 3, 4, 5) ➞ 120\n"
   ]
  },
  {
   "cell_type": "code",
   "execution_count": 6,
   "id": "12b9652a",
   "metadata": {},
   "outputs": [],
   "source": [
    "def combinations(*args):\n",
    "    \n",
    "    try:\n",
    "        pro=1\n",
    "        for i in args:\n",
    "            pro*=i\n",
    "        return pro\n",
    "\n",
    "    except Exception as e:\n",
    "         print(\"There is some error: \",e)"
   ]
  },
  {
   "cell_type": "code",
   "execution_count": 7,
   "id": "8bd89c88",
   "metadata": {},
   "outputs": [
    {
     "name": "stdout",
     "output_type": "stream",
     "text": [
      "6\n",
      "84\n",
      "120\n"
     ]
    }
   ],
   "source": [
    "print(combinations(2, 3))\n",
    "print(combinations(3, 7, 4))\n",
    "print(combinations(2, 3, 4, 5))"
   ]
  },
  {
   "cell_type": "markdown",
   "id": "953a14f5",
   "metadata": {},
   "source": [
    "### 3. Create a function that takes a string as an argument and returns the Morse code equivalent.\n",
    "\n",
    "Examples\n",
    "\n",
    "encode_morse(\"EDABBIT CHALLENGE\") ➞ \". -.. .- -... -... .. -   -.-. .... .- .-.. .-.. . -. --. .\"\n",
    "\n",
    "encode_morse(\"HELP ME !\") ➞ \".... . .-.. .--.   -- .   -.-.--\"\n",
    "\n",
    "This dictionary can be used for coding:\n",
    "\n",
    "char_to_dots = {\n",
    "  'A': '.-', 'B': '-...', 'C': '-.-.', 'D': '-..', 'E': '.', 'F': '..-.',\n",
    "  'G': '--.', 'H': '....', 'I': '..', 'J': '.---', 'K': '-.-', 'L': '.-..',\n",
    "  'M': '--', 'N': '-.', 'O': '---', 'P': '.--.', 'Q': '--.-', 'R': '.-.',\n",
    "  'S': '...', 'T': '-', 'U': '..-', 'V': '...-', 'W': '.--', 'X': '-..-',\n",
    "  'Y': '-.--', 'Z': '--..', ' ': ' ', '0': '-----',\n",
    "  '1': '.----', '2': '..---', '3': '...--', '4': '....-', '5': '.....',\n",
    "  '6': '-....', '7': '--...', '8': '---..', '9': '----.',\n",
    "  '&': '.-...', \"'\": '.----.', '@: '.--.-.', ')': '-.--.-', '(': '-.--.',\n",
    "  ':': '---...', ',': '--..--', '=': '-...-', '!': '-.-.--', '.': '.-.-.-',\n",
    "  '-': '-....-', '+': '.-.-.', '\"': '.-..-.', '?': '..--..', '/': '-..-.'\n",
    "}"
   ]
  },
  {
   "cell_type": "code",
   "execution_count": 8,
   "id": "d6f35710",
   "metadata": {},
   "outputs": [],
   "source": [
    "def encode_morse(s):\n",
    "    \n",
    "    try:\n",
    "        char_to_dots = {\n",
    "                          'A': '.-', 'B': '-...', 'C': '-.-.', 'D': '-..', 'E': '.', 'F': '..-.',\n",
    "                          'G': '--.', 'H': '....', 'I': '..', 'J': '.---', 'K': '-.-', 'L': '.-..',\n",
    "                          'M': '--', 'N': '-.', 'O': '---', 'P': '.--.', 'Q': '--.-', 'R': '.-.',\n",
    "                          'S': '...', 'T': '-', 'U': '..-', 'V': '...-', 'W': '.--', 'X': '-..-',\n",
    "                          'Y': '-.--', 'Z': '--..', ' ': ' ', '0': '-----',\n",
    "                          '1': '.----', '2': '..---', '3': '...--', '4': '....-', '5': '.....',\n",
    "                          '6': '-....', '7': '--...', '8': '---..', '9': '----.',\n",
    "                          '&': '.-...', \"'\": '.----.', '@': '.--.-.', ')': '-.--.-', '(': '-.--.',\n",
    "                          ':': '---...', ',': '--..--', '=': '-...-', '!': '-.-.--', '.': '.-.-.-',\n",
    "                          '-': '-....-', '+': '.-.-.', '\"': '.-..-.', '?': '..--..', '/': '-..-.'\n",
    "                        }\n",
    "            \n",
    "        new=\"\"\n",
    "        for i in s.upper():\n",
    "            new=new+str(char_to_dots.get(i))\n",
    "        \n",
    "        return (\"Morse Code of \"+ s + \" = \" + new)\n",
    "        \n",
    "    except Exception as e:\n",
    "        print(\"Ther is some error. Details\",e)"
   ]
  },
  {
   "cell_type": "code",
   "execution_count": 9,
   "id": "566ab6c6",
   "metadata": {},
   "outputs": [
    {
     "name": "stdout",
     "output_type": "stream",
     "text": [
      "Morse Code of EDABBIT CHALLENGE = .-...--...-.....- -.-......-.-...-...-.--..\n",
      "Morse Code of HELP ME ! = ......-...--. --. -.-.--\n"
     ]
    }
   ],
   "source": [
    "print(encode_morse(\"EDABBIT CHALLENGE\"))\n",
    "print(encode_morse(\"HELP ME !\") )"
   ]
  },
  {
   "cell_type": "markdown",
   "id": "7ecc5a48",
   "metadata": {},
   "source": [
    "### 4.  Write a function that takes a number and returns True if it's a prime; False otherwise. The number can be 2^64-1 (2 to the power of 63, not XOR). With the standard technique it would be O(2^64-1), which is much too large for the 10 second time limit.\n",
    "\n",
    "Examples\n",
    "\n",
    "prime(7) ➞ True\n",
    "\n",
    "prime(56963) ➞ True\n",
    "\n",
    "prime(5151512515524) ➞ False"
   ]
  },
  {
   "cell_type": "code",
   "execution_count": 10,
   "id": "61de4921",
   "metadata": {},
   "outputs": [],
   "source": [
    "import time\n",
    "\n",
    "def prime(n):\n",
    "   \n",
    "    for i in range(n+1):\n",
    "        \n",
    "        for j in range(2,n+1):\n",
    "            if i%j==0:\n",
    "                break\n",
    "            return False\n",
    "        return True"
   ]
  },
  {
   "cell_type": "code",
   "execution_count": 11,
   "id": "e9d6acbc",
   "metadata": {},
   "outputs": [
    {
     "name": "stdout",
     "output_type": "stream",
     "text": [
      "True\n",
      "0.0\n"
     ]
    }
   ],
   "source": [
    "start=time.time()\n",
    "\n",
    "print(prime(pow(2,64)-1))  \n",
    "\n",
    "print(time.time()-start)"
   ]
  },
  {
   "cell_type": "code",
   "execution_count": 12,
   "id": "a5f12f3c",
   "metadata": {},
   "outputs": [],
   "source": [
    "## Solution-2\n",
    "\n",
    "from math import sqrt\n",
    "\n",
    "def prime(n):\n",
    "    if n==2:\n",
    "        return True\n",
    "    if (n<2) or (n%2==0):\n",
    "        return False\n",
    "    return not any(n%i==0 for i in range(3,int(sqrt(n))+1, 2))"
   ]
  },
  {
   "cell_type": "code",
   "execution_count": 13,
   "id": "f6427654",
   "metadata": {},
   "outputs": [
    {
     "name": "stdout",
     "output_type": "stream",
     "text": [
      "False\n",
      "Wall time: 0 ns\n"
     ]
    }
   ],
   "source": [
    "%%time\n",
    "#start=time.time()\n",
    "print(prime(pow(2,64)-1))\n",
    "#print(time.time()-start)"
   ]
  },
  {
   "cell_type": "markdown",
   "id": "3fb29723",
   "metadata": {},
   "source": [
    "### 5.  Create a function that converts a word to a bitstring and then to a boolean list based on the following criteria:\n",
    "\n",
    "    1. Locate the position of the letter in the English alphabet (from 1 to 26).\n",
    "    2. Odd positions will be represented as 1 and 0 otherwise.\n",
    "    3. Convert the represented positions to boolean values, 1 for True and 0 for False.\n",
    "    4. Store the conversions into an array.\n",
    "\n",
    " Examples\n",
    "\n",
    "to_boolean_list(\"deep\") ➞ [False, True, True, False]\n",
    "\n",
    "deep converts to 0110\n",
    "\n",
    "d is the 4th alphabet - 0\n",
    "\n",
    "e is the 5th alphabet - 1\n",
    "\n",
    "e is the 5th alphabet - 1\n",
    "\n",
    "p is the 16th alphabet - 0\n",
    "\n",
    "to_boolean_list(\"loves\") ➞ [False, True, False, True, True]\n",
    "\n",
    "to_boolean_list(\"tesh\") ➞ [False, True, True, False]"
   ]
  },
  {
   "cell_type": "code",
   "execution_count": 15,
   "id": "4c49b155",
   "metadata": {},
   "outputs": [],
   "source": [
    "def to_boolean_list(s):\n",
    "    \n",
    "    alphabets=\"ABCDEFGHIJKLMNOPQRSTUVWXYZ\"\n",
    "    values=[0 if i%2==0 else 1 for i in range(1,len(alphabets)+1)]\n",
    "\n",
    "    bit_pair = {alphabets[i]: values[i] for i in range(len(alphabets))}\n",
    "    \n",
    "    temp=[]\n",
    "    for i in s.upper():\n",
    "        temp.append(bit_pair.get(i))\n",
    "    \n",
    "    res=[\"True\" if i==1 else \"False\" for i in temp]\n",
    "    \n",
    "    return res"
   ]
  },
  {
   "cell_type": "code",
   "execution_count": 16,
   "id": "fcdd2c65",
   "metadata": {},
   "outputs": [
    {
     "data": {
      "text/plain": [
       "['False', 'True', 'False', 'True', 'True']"
      ]
     },
     "execution_count": 16,
     "metadata": {},
     "output_type": "execute_result"
    }
   ],
   "source": [
    "to_boolean_list(\"loves\") "
   ]
  },
  {
   "cell_type": "code",
   "execution_count": 17,
   "id": "17fb77b1",
   "metadata": {},
   "outputs": [
    {
     "data": {
      "text/plain": [
       "['False', 'True', 'True', 'False']"
      ]
     },
     "execution_count": 17,
     "metadata": {},
     "output_type": "execute_result"
    }
   ],
   "source": [
    "to_boolean_list(\"tesh\")"
   ]
  },
  {
   "cell_type": "code",
   "execution_count": 18,
   "id": "349d3039",
   "metadata": {},
   "outputs": [],
   "source": [
    "## Solution-2\n",
    "\n",
    "def to_boolean_list1(s):\n",
    "    \n",
    "    res=[]\n",
    "    for i in s.upper():\n",
    "        #print(i,ord(i)%2)\n",
    "        res.append(bool(ord(i)%2))\n",
    "    \n",
    "    return res"
   ]
  },
  {
   "cell_type": "code",
   "execution_count": 19,
   "id": "08099956",
   "metadata": {},
   "outputs": [
    {
     "data": {
      "text/plain": [
       "[False, True, False, True, True]"
      ]
     },
     "execution_count": 19,
     "metadata": {},
     "output_type": "execute_result"
    }
   ],
   "source": [
    "to_boolean_list1(\"loves\") "
   ]
  }
 ],
 "metadata": {
  "kernelspec": {
   "display_name": "Python 3",
   "language": "python",
   "name": "python3"
  },
  "language_info": {
   "codemirror_mode": {
    "name": "ipython",
    "version": 3
   },
   "file_extension": ".py",
   "mimetype": "text/x-python",
   "name": "python",
   "nbconvert_exporter": "python",
   "pygments_lexer": "ipython3",
   "version": "3.8.8"
  }
 },
 "nbformat": 4,
 "nbformat_minor": 5
}
