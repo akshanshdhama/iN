{
 "cells": [
  {
   "cell_type": "code",
   "execution_count": 1,
   "metadata": {},
   "outputs": [
    {
     "name": "stdout",
     "output_type": "stream",
     "text": [
      "Hello Python\n"
     ]
    }
   ],
   "source": [
    "'''\n",
    "1. Write a Python program to print \"Hello Python\"?\n",
    "'''\n",
    "\n",
    "print(\"Hello Python\")"
   ]
  },
  {
   "cell_type": "code",
   "execution_count": 2,
   "metadata": {},
   "outputs": [
    {
     "name": "stdout",
     "output_type": "stream",
     "text": [
      "Addition Result: 18\n",
      "Division Result: 5.0\n",
      "Division Result: 5\n"
     ]
    }
   ],
   "source": [
    "'''\n",
    "2. Write a Python program to do arithmetical operations addition and division.?\n",
    "'''\n",
    "\n",
    "a=15\n",
    "b=3\n",
    "\n",
    "print(f\"Addition Result: {a+b}\")\n",
    "print(f\"Division Result: {a/b}\")\n",
    "print(f\"Division Result: {int(a/b)}\")  # will return only integer value"
   ]
  },
  {
   "cell_type": "code",
   "execution_count": 3,
   "metadata": {},
   "outputs": [
    {
     "name": "stdout",
     "output_type": "stream",
     "text": [
      "Enter the base of triangle:5\n",
      "Enter the base of triangle:5\n",
      "Area of the triange with base: 5 & height 5 is: 12.5\n"
     ]
    }
   ],
   "source": [
    "'''\n",
    "3. Write a Python program to find the area of a triangle?\n",
    "'''\n",
    "\n",
    "base=int(input(\"Enter the base of triangle:\"))\n",
    "height=int(input(\"Enter the base of triangle:\"))\n",
    "\n",
    "area=(base*height)/2\n",
    "\n",
    "print(f\"Area of the triange with base: {base} & height {height} is: {area}\")"
   ]
  },
  {
   "cell_type": "code",
   "execution_count": 4,
   "metadata": {},
   "outputs": [
    {
     "name": "stdout",
     "output_type": "stream",
     "text": [
      "Before Swapping: a=3 and b=5\n",
      "After Swapping: a=5 and b=3\n"
     ]
    }
   ],
   "source": [
    "'''\n",
    "4. Write a Python program to swap two variables?\n",
    "'''\n",
    "\n",
    "a=3\n",
    "b=5\n",
    "\n",
    "print(f\"Before Swapping: a={a} and b={b}\")\n",
    "\n",
    "a,b=b,a\n",
    "\n",
    "print(f\"After Swapping: a={a} and b={b}\")"
   ]
  },
  {
   "cell_type": "code",
   "execution_count": 5,
   "metadata": {},
   "outputs": [
    {
     "name": "stdout",
     "output_type": "stream",
     "text": [
      "2\n"
     ]
    }
   ],
   "source": [
    "'''\n",
    "5. Write a Python program to generate a random number?\n",
    "'''\n",
    "\n",
    "import random\n",
    "\n",
    "print(random.randint(0,9))"
   ]
  }
 ],
 "metadata": {
  "kernelspec": {
   "display_name": "Python 3",
   "language": "python",
   "name": "python3"
  },
  "language_info": {
   "codemirror_mode": {
    "name": "ipython",
    "version": 3
   },
   "file_extension": ".py",
   "mimetype": "text/x-python",
   "name": "python",
   "nbconvert_exporter": "python",
   "pygments_lexer": "ipython3",
   "version": "3.8.8"
  }
 },
 "nbformat": 4,
 "nbformat_minor": 4
}
