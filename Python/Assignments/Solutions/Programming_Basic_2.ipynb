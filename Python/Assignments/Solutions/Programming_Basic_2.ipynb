{
 "cells": [
  {
   "cell_type": "code",
   "execution_count": 1,
   "metadata": {},
   "outputs": [
    {
     "name": "stdout",
     "output_type": "stream",
     "text": [
      "Enter the distance in Kilomters: 1\n",
      "\n",
      "1.0 Kilometer is equals to 0.62 Miles\n"
     ]
    }
   ],
   "source": [
    "'''\n",
    "1. Write a Python program to convert kilometers to miles?\n",
    "'''\n",
    "\n",
    "km=float(input(\"Enter the distance in Kilomters: \"))\n",
    "\n",
    "miles=round(km/1.609,2)\n",
    "\n",
    "print(f\"\\n{km} Kilometer is equals to {miles} Miles\")"
   ]
  },
  {
   "cell_type": "code",
   "execution_count": 2,
   "metadata": {},
   "outputs": [
    {
     "name": "stdout",
     "output_type": "stream",
     "text": [
      "Enter the temperature in Celsius: 13\n",
      "\n",
      "13.0 Celsius is equals to 55.4 Fahrenheit\n"
     ]
    }
   ],
   "source": [
    "'''\n",
    "2. Write a Python program to convert Celsius to Fahrenheit?\n",
    "'''\n",
    "\n",
    "cl=float(input(\"Enter the temperature in Celsius: \"))\n",
    "\n",
    "fh=round(((cl*(9/5))+32),1)\n",
    "\n",
    "print(f\"\\n{cl} Celsius is equals to {fh} Fahrenheit\")"
   ]
  },
  {
   "cell_type": "code",
   "execution_count": 3,
   "metadata": {},
   "outputs": [
    {
     "name": "stdout",
     "output_type": "stream",
     "text": [
      "Enter year: 2021\n",
      "Enter month: 4\n",
      "Enter day: 3\n",
      "         April 2021\n",
      "Mon Tue Wed Thu Fri Sat Sun\n",
      "              1   2   3   4\n",
      "  5   6   7   8   9  10  11\n",
      " 12  13  14  15  16  17  18\n",
      " 19  20  21  22  23  24  25\n",
      " 26  27  28  29  30\n",
      "\n"
     ]
    }
   ],
   "source": [
    "'''\n",
    "3. Write a Python program to display calendar?\n",
    "'''\n",
    "\n",
    "import calendar\n",
    "\n",
    "yy = int(input(\"Enter year: \"))\n",
    "mm = int(input(\"Enter month: \"))\n",
    "dd = int(input(\"Enter day: \"))\n",
    "\n",
    "print(calendar.month(yy,mm,dd))"
   ]
  },
  {
   "cell_type": "code",
   "execution_count": 4,
   "metadata": {},
   "outputs": [
    {
     "name": "stdout",
     "output_type": "stream",
     "text": [
      "Enter coefficient a: 1\n",
      "Enter coefficient b: 2\n",
      "Enter coefficient c: 1\n",
      "\n",
      "Root1= -1.0\n",
      "Root2= -1.0\n"
     ]
    }
   ],
   "source": [
    "'''\n",
    "4. Write a Python program to solve quadratic equation\n",
    "\n",
    "ax2+bx+c=0 ==> here we need to find value of x using sqroot of b2-4ac formula\n",
    "'''\n",
    "\n",
    "import math\n",
    "\n",
    "a = float(input(\"Enter coefficient a: \"))\n",
    "b = float(input(\"Enter coefficient b: \"))\n",
    "c = float(input(\"Enter coefficient c: \"))\n",
    "\n",
    "d = b**2 - 4 * a * c\n",
    "\n",
    "if d >=0:\n",
    "    root1=(-b+math.sqrt(d))/2*a\n",
    "    root2=(-b-math.sqrt(d))/2*a\n",
    "else:\n",
    "    root1= complex((-b/(2*a)),math.sqrt(-d)/(2*a))\n",
    "    root2= complex((-b/(2*a)),-math.sqrt(-d)/(2*a))\n",
    "\n",
    "print()\n",
    "print(f\"Root1= {root1}\")\n",
    "print(f\"Root2= {root2}\")"
   ]
  },
  {
   "cell_type": "code",
   "execution_count": 6,
   "metadata": {},
   "outputs": [
    {
     "name": "stdout",
     "output_type": "stream",
     "text": [
      "Enter first number: 33\n",
      "Enter first number: 22\n",
      "Before Swapping: first number is 33 and second is 22\n",
      "After Swapping: first number is 22 and second is 33\n"
     ]
    }
   ],
   "source": [
    "'''\n",
    "5. Write a Python program to swap two variables without temp variable?\n",
    "'''\n",
    "\n",
    "a = int(input(\"Enter first number: \"))\n",
    "b = int(input(\"Enter first number: \"))\n",
    "\n",
    "print(f\"Before Swapping: first number is {a} and second is {b}\")\n",
    "\n",
    "a,b=b,a\n",
    "\n",
    "print(f\"After Swapping: first number is {a} and second is {b}\")"
   ]
  }
 ],
 "metadata": {
  "kernelspec": {
   "display_name": "Python 3",
   "language": "python",
   "name": "python3"
  },
  "language_info": {
   "codemirror_mode": {
    "name": "ipython",
    "version": 3
   },
   "file_extension": ".py",
   "mimetype": "text/x-python",
   "name": "python",
   "nbconvert_exporter": "python",
   "pygments_lexer": "ipython3",
   "version": "3.8.8"
  }
 },
 "nbformat": 4,
 "nbformat_minor": 4
}
