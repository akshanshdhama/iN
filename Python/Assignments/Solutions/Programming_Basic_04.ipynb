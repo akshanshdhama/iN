{
 "cells": [
  {
   "cell_type": "code",
   "execution_count": 1,
   "id": "7333c4ed",
   "metadata": {},
   "outputs": [
    {
     "name": "stdout",
     "output_type": "stream",
     "text": [
      "Enter the number for Factorial: 6\n",
      "The factorial of 6 = 720\n"
     ]
    }
   ],
   "source": [
    "'''\n",
    "1. Write a Python Program to Find the Factorial of a Number?\n",
    "'''\n",
    "\n",
    "try:\n",
    "    \n",
    "    num=int(input(\"Enter the number for Factorial: \"))\n",
    "\n",
    "    if num >= 0:\n",
    "       \n",
    "        out=1\n",
    "        for i in range(num,0,-1):\n",
    "            out*=i\n",
    "        print(f\"The factorial of {num} = {out}\")\n",
    "    \n",
    "    else:\n",
    "        print(\"Please enter any positive integer\")\n",
    "        \n",
    "except Exception as e:\n",
    "    print(\"Error in code, details are as follows: \",e)"
   ]
  },
  {
   "cell_type": "code",
   "execution_count": 2,
   "id": "805045fb",
   "metadata": {},
   "outputs": [
    {
     "name": "stdout",
     "output_type": "stream",
     "text": [
      "Insert the number for Table: 5\n",
      "\n",
      "Table of {num}\n",
      " -------------------------------------------------- \n",
      "\n",
      "5 * 1 = 5\n",
      "5 * 2 = 10\n",
      "5 * 3 = 15\n",
      "5 * 4 = 20\n",
      "5 * 5 = 25\n",
      "5 * 6 = 30\n",
      "5 * 7 = 35\n",
      "5 * 8 = 40\n",
      "5 * 9 = 45\n",
      "5 * 10 = 50\n"
     ]
    }
   ],
   "source": [
    "'''\n",
    "2. Write a Python Program to Display the multiplication Table?\n",
    "'''\n",
    "\n",
    "try:\n",
    "    \n",
    "    num=int(input(\"Insert the number for Table: \"))\n",
    "\n",
    "    if num >= 0:\n",
    "        print(\"\\nTable of {num}\\n\",\"-\"*50,\"\\n\")\n",
    "        for i in range(1,11):\n",
    "            print(f\"{num} * {i} = {num*i}\")            \n",
    "    else:\n",
    "        print(\"Please enter any positive integer\")\n",
    "        \n",
    "except Exception as e:\n",
    "    print(\"Error in code, details are as follows: \",e)    "
   ]
  },
  {
   "cell_type": "code",
   "execution_count": 3,
   "id": "6b765dcc",
   "metadata": {},
   "outputs": [
    {
     "name": "stdout",
     "output_type": "stream",
     "text": [
      "Insert the range for Fibonacci: 10\n",
      "1\n",
      "1\n",
      "2\n",
      "3\n",
      "5\n",
      "8\n",
      "13\n",
      "21\n",
      "34\n",
      "55\n"
     ]
    }
   ],
   "source": [
    "'''\n",
    "3. Write a Python Program to Print the Fibonacci sequence?\n",
    "'''\n",
    "\n",
    "try:\n",
    "    \n",
    "    num=int(input(\"Insert the range for Fibonacci: \"))\n",
    "\n",
    "    if num >= 0:\n",
    "        a=1\n",
    "        b=1\n",
    "        print(a)\n",
    "        for i in range(1,num):\n",
    "            print(b)\n",
    "            a,b=b,a+b\n",
    "            \n",
    "    else:\n",
    "        print(\"Please enter any positive integer\")\n",
    "        \n",
    "except Exception as e:\n",
    "    print(\"Error in code, details are as follows: \",e)    "
   ]
  },
  {
   "cell_type": "code",
   "execution_count": 4,
   "id": "fe54dfb5",
   "metadata": {},
   "outputs": [
    {
     "name": "stdout",
     "output_type": "stream",
     "text": [
      "Hurray !! 1634 is an Armstrong Number\n"
     ]
    }
   ],
   "source": [
    "'''\n",
    "4. Write a Python Program to Check Armstrong Number?\n",
    "'''\n",
    "\n",
    "def chk_armstrong(n):\n",
    "    \n",
    "    '''\n",
    "        This function checks if a number is whether Armstrong number or not ?\n",
    "        it takes just an argument\n",
    "        \n",
    "        Arguments:\n",
    "        n= Number to check        \n",
    "    '''\n",
    "    \n",
    "    try:\n",
    "        if n >= 0:\n",
    "\n",
    "            pw=len(str(n))\n",
    "            \n",
    "            \n",
    "            tot=0\n",
    "            temp=n\n",
    "            while(temp>0):\n",
    "                digit=temp % 10\n",
    "                tot+= digit ** pw\n",
    "                temp //= 10\n",
    "\n",
    "            if tot == n:\n",
    "                print(f\"Hurray !! {n} is an Armstrong Number\")\n",
    "            else:\n",
    "                print(f\"Oops !! {n} is not an Armstrong Number\")       \n",
    "\n",
    "        else:\n",
    "            print(\"Please enter any positive integer\")\n",
    "\n",
    "    except Exception as e:\n",
    "        print(\"Error in code, details are as follows: \",e)    \n",
    "        \n",
    "\n",
    "        \n",
    "#### Calling\n",
    "chk_armstrong(1634)"
   ]
  },
  {
   "cell_type": "code",
   "execution_count": 5,
   "id": "a48f06a1",
   "metadata": {},
   "outputs": [
    {
     "name": "stdout",
     "output_type": "stream",
     "text": [
      "1\n",
      "2\n",
      "3\n",
      "4\n",
      "5\n",
      "6\n",
      "7\n",
      "8\n",
      "9\n",
      "153\n",
      "370\n",
      "371\n",
      "407\n"
     ]
    }
   ],
   "source": [
    "'''\n",
    "5. Write a Python Program to Find Armstrong Number in an Interval?\n",
    "'''\n",
    "\n",
    "def print_armstrong(st,ed):\n",
    "    \n",
    "    '''\n",
    "        This function returns list of Armstrong numbers in a given interval range\n",
    "        \n",
    "        It takes two arguments\n",
    "        \n",
    "        Arguments:\n",
    "        st= Start of interval range\n",
    "        ed= End of interval range\n",
    "        \n",
    "    '''\n",
    "\n",
    "    \n",
    "    try:\n",
    "\n",
    "        for i in range(st,ed+1):\n",
    "\n",
    "            pw=len(str(i))\n",
    "            tot=0\n",
    "            temp=i\n",
    "            \n",
    "            while(temp>0):\n",
    "                digit=temp % 10\n",
    "                tot+= digit ** pw\n",
    "                temp //= 10\n",
    "\n",
    "            if tot == i:\n",
    "                print(i)\n",
    "                continue\n",
    "\n",
    "    except Exception as e:\n",
    "        print(\"Error in code, details are as follows: \",e)    \n",
    "        \n",
    "\n",
    "## Calling\n",
    "print_armstrong(1,999)"
   ]
  },
  {
   "cell_type": "code",
   "execution_count": 6,
   "id": "7f0f18cd",
   "metadata": {},
   "outputs": [
    {
     "data": {
      "text/plain": [
       "55"
      ]
     },
     "execution_count": 6,
     "metadata": {},
     "output_type": "execute_result"
    }
   ],
   "source": [
    "'''\n",
    "6. Write a Python Program to Find the Sum of Natural Numbers?\n",
    "'''\n",
    "\n",
    "def sum_natural(st,ed):\n",
    "    \n",
    "    '''\n",
    "        This function sum of natural numbers of given interval range\n",
    "        \n",
    "        It takes two arguments\n",
    "        \n",
    "        Arguments:\n",
    "        st= Start of interval range\n",
    "        ed= End of interval range\n",
    "        \n",
    "    '''\n",
    "    \n",
    "    try:\n",
    "\n",
    "        if st > 0 and ed > 0:\n",
    "\n",
    "            tot=0\n",
    "            for i in range(st,ed+1):\n",
    "                tot+=i\n",
    "        return tot\n",
    "                \n",
    "    except Exception as e:\n",
    "        print(\"Error in code, details are as follows: \",e)    \n",
    "\n",
    "###Calling\n",
    "sum_natural(1,10)"
   ]
  }
 ],
 "metadata": {
  "kernelspec": {
   "display_name": "Python 3",
   "language": "python",
   "name": "python3"
  },
  "language_info": {
   "codemirror_mode": {
    "name": "ipython",
    "version": 3
   },
   "file_extension": ".py",
   "mimetype": "text/x-python",
   "name": "python",
   "nbconvert_exporter": "python",
   "pygments_lexer": "ipython3",
   "version": "3.8.8"
  }
 },
 "nbformat": 4,
 "nbformat_minor": 5
}
